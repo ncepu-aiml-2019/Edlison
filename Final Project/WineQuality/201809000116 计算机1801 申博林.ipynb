{
 "cells": [
  {
   "cell_type": "code",
   "execution_count": 1,
   "metadata": {
    "pycharm": {
     "is_executing": false
    }
   },
   "outputs": [],
   "source": [
    "import pandas as pd\n",
    "import numpy as np\n",
    "from sklearn import svm"
   ]
  },
  {
   "cell_type": "code",
   "execution_count": 2,
   "metadata": {
    "pycharm": {
     "is_executing": false,
     "name": "#%%\n"
    }
   },
   "outputs": [
    {
     "name": "stdout",
     "output_type": "stream",
     "text": [
      "准备数据\n"
     ]
    }
   ],
   "source": [
    "print(\"准备数据\")\n",
    "testDf = pd.read_csv(\"../data/winequality-white.csv\", sep=\";\")\n",
    "testData = testDf.values\n",
    "wineDf = pd.read_csv(\"../data/winequality-white.csv\", sep=\";\")\n",
    "wineData = wineDf.values"
   ]
  },
  {
   "cell_type": "code",
   "execution_count": 3,
   "metadata": {
    "pycharm": {
     "is_executing": false,
     "name": "#%%\n"
    }
   },
   "outputs": [],
   "source": [
    "dataColName = wineDf.columns\n",
    "rsColName = dataColName[-1]\n",
    "ftColName = list(dataColName[:len(dataColName) - 1])\n",
    "\n",
    "testFeature = testDf[ftColName].values[:-100]#testset\n",
    "testResult = testDf[rsColName].values[:-100]\n",
    "wineFeature = wineDf[ftColName].values[:4000]#trainingset\n",
    "wineResult = wineDf[rsColName].values[:4000]"
   ]
  },
  {
   "cell_type": "code",
   "execution_count": 4,
   "metadata": {
    "pycharm": {
     "is_executing": false,
     "name": "#%%\n"
    }
   },
   "outputs": [
    {
     "name": "stdout",
     "output_type": "stream",
     "text": [
      "建立模型\n",
      "训练模型\n",
      "测试结果\n",
      "[6 6 6 ... 6 6 6]\n",
      "[6 6 6 ... 7 7 6]\n",
      "正确样本数:2149,总测试样本数:4798,正确率:0.447895\n"
     ]
    }
   ],
   "source": [
    "print(\"建立模型\")\n",
    "clf = svm.SVC(gamma='scale', kernel='poly', C=0.8, degree=3)\n",
    "print(\"训练模型\")\n",
    "clf.fit(wineFeature, wineResult)\n",
    "print(\"测试结果\")\n",
    "y_pred = clf.predict(testFeature)\n",
    "print(y_pred)\n",
    "print(testResult)\n",
    "predWine = np.equal(y_pred, testResult)\n",
    "correctCount = float(sum(map(lambda x: 1 if x else 0, predWine)))\n",
    "print(\"正确样本数:%d,总测试样本数:%d,正确率:%g\" % (correctCount, len(testResult), correctCount / len(testResult)))\n"
   ]
  }
 ],
 "metadata": {
  "kernelspec": {
   "display_name": "Python 3",
   "language": "python",
   "name": "python3"
  },
  "language_info": {
   "codemirror_mode": {
    "name": "ipython",
    "version": 3
   },
   "file_extension": ".py",
   "mimetype": "text/x-python",
   "name": "python",
   "nbconvert_exporter": "python",
   "pygments_lexer": "ipython3",
   "version": "3.7.6"
  },
  "pycharm": {
   "stem_cell": {
    "cell_type": "raw",
    "metadata": {
     "collapsed": false
    },
    "source": []
   }
  }
 },
 "nbformat": 4,
 "nbformat_minor": 1
}
