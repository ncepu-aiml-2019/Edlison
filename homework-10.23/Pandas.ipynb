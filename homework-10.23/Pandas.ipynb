{
 "cells": [
  {
   "cell_type": "code",
   "execution_count": 2,
   "outputs": [
    {
     "data": {
      "text/plain": "  State  Account length  Area code International plan Voice mail plan  \\\n0    KS             128        415                 No             Yes   \n1    OH             107        415                 No             Yes   \n2    NJ             137        415                 No              No   \n3    OH              84        408                Yes              No   \n4    OK              75        415                Yes              No   \n5    AL             118        510                Yes              No   \n6    MA             121        510                 No             Yes   \n7    MO             147        415                Yes              No   \n8    LA             117        408                 No              No   \n9    WV             141        415                Yes             Yes   \n\n   Number vmail messages  Total day minutes  Total day calls  \\\n0                     25              265.1              110   \n1                     26              161.6              123   \n2                      0              243.4              114   \n3                      0              299.4               71   \n4                      0              166.7              113   \n5                      0              223.4               98   \n6                     24              218.2               88   \n7                      0              157.0               79   \n8                      0              184.5               97   \n9                     37              258.6               84   \n\n   Total day charge  Total eve minutes  Total eve calls  Total eve charge  \\\n0             45.07              197.4               99             16.78   \n1             27.47              195.5              103             16.62   \n2             41.38              121.2              110             10.30   \n3             50.90               61.9               88              5.26   \n4             28.34              148.3              122             12.61   \n5             37.98              220.6              101             18.75   \n6             37.09              348.5              108             29.62   \n7             26.69              103.1               94              8.76   \n8             31.37              351.6               80             29.89   \n9             43.96              222.0              111             18.87   \n\n   Total night minutes  Total night calls  Total night charge  \\\n0                244.7                 91               11.01   \n1                254.4                103               11.45   \n2                162.6                104                7.32   \n3                196.9                 89                8.86   \n4                186.9                121                8.41   \n5                203.9                118                9.18   \n6                212.6                118                9.57   \n7                211.8                 96                9.53   \n8                215.8                 90                9.71   \n9                326.4                 97               14.69   \n\n   Total intl minutes  Total intl calls  Total intl charge  \\\n0                10.0                 3               2.70   \n1                13.7                 3               3.70   \n2                12.2                 5               3.29   \n3                 6.6                 7               1.78   \n4                10.1                 3               2.73   \n5                 6.3                 6               1.70   \n6                 7.5                 7               2.03   \n7                 7.1                 6               1.92   \n8                 8.7                 4               2.35   \n9                11.2                 5               3.02   \n\n   Customer service calls  Churn  \n0                       1  False  \n1                       1  False  \n2                       0  False  \n3                       2  False  \n4                       3  False  \n5                       0  False  \n6                       3  False  \n7                       0  False  \n8                       1  False  \n9                       0  False  ",
      "text/html": "<div>\n<style scoped>\n    .dataframe tbody tr th:only-of-type {\n        vertical-align: middle;\n    }\n\n    .dataframe tbody tr th {\n        vertical-align: top;\n    }\n\n    .dataframe thead th {\n        text-align: right;\n    }\n</style>\n<table border=\"1\" class=\"dataframe\">\n  <thead>\n    <tr style=\"text-align: right;\">\n      <th></th>\n      <th>State</th>\n      <th>Account length</th>\n      <th>Area code</th>\n      <th>International plan</th>\n      <th>Voice mail plan</th>\n      <th>Number vmail messages</th>\n      <th>Total day minutes</th>\n      <th>Total day calls</th>\n      <th>Total day charge</th>\n      <th>Total eve minutes</th>\n      <th>Total eve calls</th>\n      <th>Total eve charge</th>\n      <th>Total night minutes</th>\n      <th>Total night calls</th>\n      <th>Total night charge</th>\n      <th>Total intl minutes</th>\n      <th>Total intl calls</th>\n      <th>Total intl charge</th>\n      <th>Customer service calls</th>\n      <th>Churn</th>\n    </tr>\n  </thead>\n  <tbody>\n    <tr>\n      <th>0</th>\n      <td>KS</td>\n      <td>128</td>\n      <td>415</td>\n      <td>No</td>\n      <td>Yes</td>\n      <td>25</td>\n      <td>265.1</td>\n      <td>110</td>\n      <td>45.07</td>\n      <td>197.4</td>\n      <td>99</td>\n      <td>16.78</td>\n      <td>244.7</td>\n      <td>91</td>\n      <td>11.01</td>\n      <td>10.0</td>\n      <td>3</td>\n      <td>2.70</td>\n      <td>1</td>\n      <td>False</td>\n    </tr>\n    <tr>\n      <th>1</th>\n      <td>OH</td>\n      <td>107</td>\n      <td>415</td>\n      <td>No</td>\n      <td>Yes</td>\n      <td>26</td>\n      <td>161.6</td>\n      <td>123</td>\n      <td>27.47</td>\n      <td>195.5</td>\n      <td>103</td>\n      <td>16.62</td>\n      <td>254.4</td>\n      <td>103</td>\n      <td>11.45</td>\n      <td>13.7</td>\n      <td>3</td>\n      <td>3.70</td>\n      <td>1</td>\n      <td>False</td>\n    </tr>\n    <tr>\n      <th>2</th>\n      <td>NJ</td>\n      <td>137</td>\n      <td>415</td>\n      <td>No</td>\n      <td>No</td>\n      <td>0</td>\n      <td>243.4</td>\n      <td>114</td>\n      <td>41.38</td>\n      <td>121.2</td>\n      <td>110</td>\n      <td>10.30</td>\n      <td>162.6</td>\n      <td>104</td>\n      <td>7.32</td>\n      <td>12.2</td>\n      <td>5</td>\n      <td>3.29</td>\n      <td>0</td>\n      <td>False</td>\n    </tr>\n    <tr>\n      <th>3</th>\n      <td>OH</td>\n      <td>84</td>\n      <td>408</td>\n      <td>Yes</td>\n      <td>No</td>\n      <td>0</td>\n      <td>299.4</td>\n      <td>71</td>\n      <td>50.90</td>\n      <td>61.9</td>\n      <td>88</td>\n      <td>5.26</td>\n      <td>196.9</td>\n      <td>89</td>\n      <td>8.86</td>\n      <td>6.6</td>\n      <td>7</td>\n      <td>1.78</td>\n      <td>2</td>\n      <td>False</td>\n    </tr>\n    <tr>\n      <th>4</th>\n      <td>OK</td>\n      <td>75</td>\n      <td>415</td>\n      <td>Yes</td>\n      <td>No</td>\n      <td>0</td>\n      <td>166.7</td>\n      <td>113</td>\n      <td>28.34</td>\n      <td>148.3</td>\n      <td>122</td>\n      <td>12.61</td>\n      <td>186.9</td>\n      <td>121</td>\n      <td>8.41</td>\n      <td>10.1</td>\n      <td>3</td>\n      <td>2.73</td>\n      <td>3</td>\n      <td>False</td>\n    </tr>\n    <tr>\n      <th>5</th>\n      <td>AL</td>\n      <td>118</td>\n      <td>510</td>\n      <td>Yes</td>\n      <td>No</td>\n      <td>0</td>\n      <td>223.4</td>\n      <td>98</td>\n      <td>37.98</td>\n      <td>220.6</td>\n      <td>101</td>\n      <td>18.75</td>\n      <td>203.9</td>\n      <td>118</td>\n      <td>9.18</td>\n      <td>6.3</td>\n      <td>6</td>\n      <td>1.70</td>\n      <td>0</td>\n      <td>False</td>\n    </tr>\n    <tr>\n      <th>6</th>\n      <td>MA</td>\n      <td>121</td>\n      <td>510</td>\n      <td>No</td>\n      <td>Yes</td>\n      <td>24</td>\n      <td>218.2</td>\n      <td>88</td>\n      <td>37.09</td>\n      <td>348.5</td>\n      <td>108</td>\n      <td>29.62</td>\n      <td>212.6</td>\n      <td>118</td>\n      <td>9.57</td>\n      <td>7.5</td>\n      <td>7</td>\n      <td>2.03</td>\n      <td>3</td>\n      <td>False</td>\n    </tr>\n    <tr>\n      <th>7</th>\n      <td>MO</td>\n      <td>147</td>\n      <td>415</td>\n      <td>Yes</td>\n      <td>No</td>\n      <td>0</td>\n      <td>157.0</td>\n      <td>79</td>\n      <td>26.69</td>\n      <td>103.1</td>\n      <td>94</td>\n      <td>8.76</td>\n      <td>211.8</td>\n      <td>96</td>\n      <td>9.53</td>\n      <td>7.1</td>\n      <td>6</td>\n      <td>1.92</td>\n      <td>0</td>\n      <td>False</td>\n    </tr>\n    <tr>\n      <th>8</th>\n      <td>LA</td>\n      <td>117</td>\n      <td>408</td>\n      <td>No</td>\n      <td>No</td>\n      <td>0</td>\n      <td>184.5</td>\n      <td>97</td>\n      <td>31.37</td>\n      <td>351.6</td>\n      <td>80</td>\n      <td>29.89</td>\n      <td>215.8</td>\n      <td>90</td>\n      <td>9.71</td>\n      <td>8.7</td>\n      <td>4</td>\n      <td>2.35</td>\n      <td>1</td>\n      <td>False</td>\n    </tr>\n    <tr>\n      <th>9</th>\n      <td>WV</td>\n      <td>141</td>\n      <td>415</td>\n      <td>Yes</td>\n      <td>Yes</td>\n      <td>37</td>\n      <td>258.6</td>\n      <td>84</td>\n      <td>43.96</td>\n      <td>222.0</td>\n      <td>111</td>\n      <td>18.87</td>\n      <td>326.4</td>\n      <td>97</td>\n      <td>14.69</td>\n      <td>11.2</td>\n      <td>5</td>\n      <td>3.02</td>\n      <td>0</td>\n      <td>False</td>\n    </tr>\n  </tbody>\n</table>\n</div>"
     },
     "metadata": {},
     "output_type": "execute_result",
     "execution_count": 2
    }
   ],
   "source": [
    "import numpy as np\n",
    "import pandas as pd\n",
    "import matplotlib.pyplot as plt\n",
    "import seaborn as sns\n",
    "\n",
    "\n",
    "df = pd.read_csv('telecom_churn.csv')\n",
    "df.head(10)"
   ],
   "metadata": {
    "collapsed": false,
    "pycharm": {
     "name": "#%%\n",
     "is_executing": false
    }
   }
  },
  {
   "cell_type": "code",
   "execution_count": 3,
   "outputs": [
    {
     "name": "stdout",
     "text": [
      "<class 'pandas.core.frame.DataFrame'>\nRangeIndex: 3333 entries, 0 to 3332\nData columns (total 20 columns):\nState                     3333 non-null object\nAccount length            3333 non-null int64\nArea code                 3333 non-null int64\nInternational plan        3333 non-null object\nVoice mail plan           3333 non-null object\nNumber vmail messages     3333 non-null int64\nTotal day minutes         3333 non-null float64\nTotal day calls           3333 non-null int64\nTotal day charge          3333 non-null float64\nTotal eve minutes         3333 non-null float64\nTotal eve calls           3333 non-null int64\nTotal eve charge          3333 non-null float64\nTotal night minutes       3333 non-null float64\nTotal night calls         3333 non-null int64\nTotal night charge        3333 non-null float64\nTotal intl minutes        3333 non-null float64\nTotal intl calls          3333 non-null int64\nTotal intl charge         3333 non-null float64\nCustomer service calls    3333 non-null int64\nChurn                     3333 non-null bool\ndtypes: bool(1), float64(8), int64(8), object(3)\nmemory usage: 498.1+ KB\n"
     ],
     "output_type": "stream"
    },
    {
     "data": {
      "text/plain": "(3333, 20)"
     },
     "metadata": {},
     "output_type": "execute_result",
     "execution_count": 3
    }
   ],
   "source": [
    "df.info()\n",
    "df.columns\n",
    "df.shape"
   ],
   "metadata": {
    "collapsed": false,
    "pycharm": {
     "name": "#%%\n",
     "is_executing": false
    }
   }
  },
  {
   "cell_type": "code",
   "execution_count": 4,
   "outputs": [
    {
     "data": {
      "text/plain": "  State  Account length  Area code International plan Voice mail plan  \\\n0    KS             128        415                 No             Yes   \n1    OH             107        415                 No             Yes   \n2    NJ             137        415                 No              No   \n3    OH              84        408                Yes              No   \n4    OK              75        415                Yes              No   \n\n   Number vmail messages  Total day minutes  Total day calls  \\\n0                     25              265.1              110   \n1                     26              161.6              123   \n2                      0              243.4              114   \n3                      0              299.4               71   \n4                      0              166.7              113   \n\n   Total day charge  Total eve minutes  Total eve calls  Total eve charge  \\\n0             45.07              197.4               99             16.78   \n1             27.47              195.5              103             16.62   \n2             41.38              121.2              110             10.30   \n3             50.90               61.9               88              5.26   \n4             28.34              148.3              122             12.61   \n\n   Total night minutes  Total night calls  Total night charge  \\\n0                244.7                 91               11.01   \n1                254.4                103               11.45   \n2                162.6                104                7.32   \n3                196.9                 89                8.86   \n4                186.9                121                8.41   \n\n   Total intl minutes  Total intl calls  Total intl charge  \\\n0                10.0                 3               2.70   \n1                13.7                 3               3.70   \n2                12.2                 5               3.29   \n3                 6.6                 7               1.78   \n4                10.1                 3               2.73   \n\n   Customer service calls  Churn  \n0                       1      0  \n1                       1      0  \n2                       0      0  \n3                       2      0  \n4                       3      0  ",
      "text/html": "<div>\n<style scoped>\n    .dataframe tbody tr th:only-of-type {\n        vertical-align: middle;\n    }\n\n    .dataframe tbody tr th {\n        vertical-align: top;\n    }\n\n    .dataframe thead th {\n        text-align: right;\n    }\n</style>\n<table border=\"1\" class=\"dataframe\">\n  <thead>\n    <tr style=\"text-align: right;\">\n      <th></th>\n      <th>State</th>\n      <th>Account length</th>\n      <th>Area code</th>\n      <th>International plan</th>\n      <th>Voice mail plan</th>\n      <th>Number vmail messages</th>\n      <th>Total day minutes</th>\n      <th>Total day calls</th>\n      <th>Total day charge</th>\n      <th>Total eve minutes</th>\n      <th>Total eve calls</th>\n      <th>Total eve charge</th>\n      <th>Total night minutes</th>\n      <th>Total night calls</th>\n      <th>Total night charge</th>\n      <th>Total intl minutes</th>\n      <th>Total intl calls</th>\n      <th>Total intl charge</th>\n      <th>Customer service calls</th>\n      <th>Churn</th>\n    </tr>\n  </thead>\n  <tbody>\n    <tr>\n      <th>0</th>\n      <td>KS</td>\n      <td>128</td>\n      <td>415</td>\n      <td>No</td>\n      <td>Yes</td>\n      <td>25</td>\n      <td>265.1</td>\n      <td>110</td>\n      <td>45.07</td>\n      <td>197.4</td>\n      <td>99</td>\n      <td>16.78</td>\n      <td>244.7</td>\n      <td>91</td>\n      <td>11.01</td>\n      <td>10.0</td>\n      <td>3</td>\n      <td>2.70</td>\n      <td>1</td>\n      <td>0</td>\n    </tr>\n    <tr>\n      <th>1</th>\n      <td>OH</td>\n      <td>107</td>\n      <td>415</td>\n      <td>No</td>\n      <td>Yes</td>\n      <td>26</td>\n      <td>161.6</td>\n      <td>123</td>\n      <td>27.47</td>\n      <td>195.5</td>\n      <td>103</td>\n      <td>16.62</td>\n      <td>254.4</td>\n      <td>103</td>\n      <td>11.45</td>\n      <td>13.7</td>\n      <td>3</td>\n      <td>3.70</td>\n      <td>1</td>\n      <td>0</td>\n    </tr>\n    <tr>\n      <th>2</th>\n      <td>NJ</td>\n      <td>137</td>\n      <td>415</td>\n      <td>No</td>\n      <td>No</td>\n      <td>0</td>\n      <td>243.4</td>\n      <td>114</td>\n      <td>41.38</td>\n      <td>121.2</td>\n      <td>110</td>\n      <td>10.30</td>\n      <td>162.6</td>\n      <td>104</td>\n      <td>7.32</td>\n      <td>12.2</td>\n      <td>5</td>\n      <td>3.29</td>\n      <td>0</td>\n      <td>0</td>\n    </tr>\n    <tr>\n      <th>3</th>\n      <td>OH</td>\n      <td>84</td>\n      <td>408</td>\n      <td>Yes</td>\n      <td>No</td>\n      <td>0</td>\n      <td>299.4</td>\n      <td>71</td>\n      <td>50.90</td>\n      <td>61.9</td>\n      <td>88</td>\n      <td>5.26</td>\n      <td>196.9</td>\n      <td>89</td>\n      <td>8.86</td>\n      <td>6.6</td>\n      <td>7</td>\n      <td>1.78</td>\n      <td>2</td>\n      <td>0</td>\n    </tr>\n    <tr>\n      <th>4</th>\n      <td>OK</td>\n      <td>75</td>\n      <td>415</td>\n      <td>Yes</td>\n      <td>No</td>\n      <td>0</td>\n      <td>166.7</td>\n      <td>113</td>\n      <td>28.34</td>\n      <td>148.3</td>\n      <td>122</td>\n      <td>12.61</td>\n      <td>186.9</td>\n      <td>121</td>\n      <td>8.41</td>\n      <td>10.1</td>\n      <td>3</td>\n      <td>2.73</td>\n      <td>3</td>\n      <td>0</td>\n    </tr>\n  </tbody>\n</table>\n</div>"
     },
     "metadata": {},
     "output_type": "execute_result",
     "execution_count": 4
    }
   ],
   "source": [
    "df['Churn'] = df['Churn'].astype(int)\n",
    "df.head()"
   ],
   "metadata": {
    "collapsed": false,
    "pycharm": {
     "name": "#%%\n",
     "is_executing": false
    }
   }
  },
  {
   "cell_type": "code",
   "execution_count": 5,
   "outputs": [
    {
     "data": {
      "text/plain": "       Account length    Area code  Number vmail messages  Total day minutes  \\\ncount     3333.000000  3333.000000            3333.000000        3333.000000   \nmean       101.064806   437.182418               8.099010         179.775098   \nstd         39.822106    42.371290              13.688365          54.467389   \nmin          1.000000   408.000000               0.000000           0.000000   \n25%         74.000000   408.000000               0.000000         143.700000   \n50%        101.000000   415.000000               0.000000         179.400000   \n75%        127.000000   510.000000              20.000000         216.400000   \nmax        243.000000   510.000000              51.000000         350.800000   \n\n       Total day calls  Total day charge  Total eve minutes  Total eve calls  \\\ncount      3333.000000       3333.000000        3333.000000      3333.000000   \nmean        100.435644         30.562307         200.980348       100.114311   \nstd          20.069084          9.259435          50.713844        19.922625   \nmin           0.000000          0.000000           0.000000         0.000000   \n25%          87.000000         24.430000         166.600000        87.000000   \n50%         101.000000         30.500000         201.400000       100.000000   \n75%         114.000000         36.790000         235.300000       114.000000   \nmax         165.000000         59.640000         363.700000       170.000000   \n\n       Total eve charge  Total night minutes  Total night calls  \\\ncount       3333.000000          3333.000000        3333.000000   \nmean          17.083540           200.872037         100.107711   \nstd            4.310668            50.573847          19.568609   \nmin            0.000000            23.200000          33.000000   \n25%           14.160000           167.000000          87.000000   \n50%           17.120000           201.200000         100.000000   \n75%           20.000000           235.300000         113.000000   \nmax           30.910000           395.000000         175.000000   \n\n       Total night charge  Total intl minutes  Total intl calls  \\\ncount         3333.000000         3333.000000       3333.000000   \nmean             9.039325           10.237294          4.479448   \nstd              2.275873            2.791840          2.461214   \nmin              1.040000            0.000000          0.000000   \n25%              7.520000            8.500000          3.000000   \n50%              9.050000           10.300000          4.000000   \n75%             10.590000           12.100000          6.000000   \nmax             17.770000           20.000000         20.000000   \n\n       Total intl charge  Customer service calls        Churn  \ncount        3333.000000             3333.000000  3333.000000  \nmean            2.764581                1.562856     0.144914  \nstd             0.753773                1.315491     0.352067  \nmin             0.000000                0.000000     0.000000  \n25%             2.300000                1.000000     0.000000  \n50%             2.780000                1.000000     0.000000  \n75%             3.270000                2.000000     0.000000  \nmax             5.400000                9.000000     1.000000  ",
      "text/html": "<div>\n<style scoped>\n    .dataframe tbody tr th:only-of-type {\n        vertical-align: middle;\n    }\n\n    .dataframe tbody tr th {\n        vertical-align: top;\n    }\n\n    .dataframe thead th {\n        text-align: right;\n    }\n</style>\n<table border=\"1\" class=\"dataframe\">\n  <thead>\n    <tr style=\"text-align: right;\">\n      <th></th>\n      <th>Account length</th>\n      <th>Area code</th>\n      <th>Number vmail messages</th>\n      <th>Total day minutes</th>\n      <th>Total day calls</th>\n      <th>Total day charge</th>\n      <th>Total eve minutes</th>\n      <th>Total eve calls</th>\n      <th>Total eve charge</th>\n      <th>Total night minutes</th>\n      <th>Total night calls</th>\n      <th>Total night charge</th>\n      <th>Total intl minutes</th>\n      <th>Total intl calls</th>\n      <th>Total intl charge</th>\n      <th>Customer service calls</th>\n      <th>Churn</th>\n    </tr>\n  </thead>\n  <tbody>\n    <tr>\n      <th>count</th>\n      <td>3333.000000</td>\n      <td>3333.000000</td>\n      <td>3333.000000</td>\n      <td>3333.000000</td>\n      <td>3333.000000</td>\n      <td>3333.000000</td>\n      <td>3333.000000</td>\n      <td>3333.000000</td>\n      <td>3333.000000</td>\n      <td>3333.000000</td>\n      <td>3333.000000</td>\n      <td>3333.000000</td>\n      <td>3333.000000</td>\n      <td>3333.000000</td>\n      <td>3333.000000</td>\n      <td>3333.000000</td>\n      <td>3333.000000</td>\n    </tr>\n    <tr>\n      <th>mean</th>\n      <td>101.064806</td>\n      <td>437.182418</td>\n      <td>8.099010</td>\n      <td>179.775098</td>\n      <td>100.435644</td>\n      <td>30.562307</td>\n      <td>200.980348</td>\n      <td>100.114311</td>\n      <td>17.083540</td>\n      <td>200.872037</td>\n      <td>100.107711</td>\n      <td>9.039325</td>\n      <td>10.237294</td>\n      <td>4.479448</td>\n      <td>2.764581</td>\n      <td>1.562856</td>\n      <td>0.144914</td>\n    </tr>\n    <tr>\n      <th>std</th>\n      <td>39.822106</td>\n      <td>42.371290</td>\n      <td>13.688365</td>\n      <td>54.467389</td>\n      <td>20.069084</td>\n      <td>9.259435</td>\n      <td>50.713844</td>\n      <td>19.922625</td>\n      <td>4.310668</td>\n      <td>50.573847</td>\n      <td>19.568609</td>\n      <td>2.275873</td>\n      <td>2.791840</td>\n      <td>2.461214</td>\n      <td>0.753773</td>\n      <td>1.315491</td>\n      <td>0.352067</td>\n    </tr>\n    <tr>\n      <th>min</th>\n      <td>1.000000</td>\n      <td>408.000000</td>\n      <td>0.000000</td>\n      <td>0.000000</td>\n      <td>0.000000</td>\n      <td>0.000000</td>\n      <td>0.000000</td>\n      <td>0.000000</td>\n      <td>0.000000</td>\n      <td>23.200000</td>\n      <td>33.000000</td>\n      <td>1.040000</td>\n      <td>0.000000</td>\n      <td>0.000000</td>\n      <td>0.000000</td>\n      <td>0.000000</td>\n      <td>0.000000</td>\n    </tr>\n    <tr>\n      <th>25%</th>\n      <td>74.000000</td>\n      <td>408.000000</td>\n      <td>0.000000</td>\n      <td>143.700000</td>\n      <td>87.000000</td>\n      <td>24.430000</td>\n      <td>166.600000</td>\n      <td>87.000000</td>\n      <td>14.160000</td>\n      <td>167.000000</td>\n      <td>87.000000</td>\n      <td>7.520000</td>\n      <td>8.500000</td>\n      <td>3.000000</td>\n      <td>2.300000</td>\n      <td>1.000000</td>\n      <td>0.000000</td>\n    </tr>\n    <tr>\n      <th>50%</th>\n      <td>101.000000</td>\n      <td>415.000000</td>\n      <td>0.000000</td>\n      <td>179.400000</td>\n      <td>101.000000</td>\n      <td>30.500000</td>\n      <td>201.400000</td>\n      <td>100.000000</td>\n      <td>17.120000</td>\n      <td>201.200000</td>\n      <td>100.000000</td>\n      <td>9.050000</td>\n      <td>10.300000</td>\n      <td>4.000000</td>\n      <td>2.780000</td>\n      <td>1.000000</td>\n      <td>0.000000</td>\n    </tr>\n    <tr>\n      <th>75%</th>\n      <td>127.000000</td>\n      <td>510.000000</td>\n      <td>20.000000</td>\n      <td>216.400000</td>\n      <td>114.000000</td>\n      <td>36.790000</td>\n      <td>235.300000</td>\n      <td>114.000000</td>\n      <td>20.000000</td>\n      <td>235.300000</td>\n      <td>113.000000</td>\n      <td>10.590000</td>\n      <td>12.100000</td>\n      <td>6.000000</td>\n      <td>3.270000</td>\n      <td>2.000000</td>\n      <td>0.000000</td>\n    </tr>\n    <tr>\n      <th>max</th>\n      <td>243.000000</td>\n      <td>510.000000</td>\n      <td>51.000000</td>\n      <td>350.800000</td>\n      <td>165.000000</td>\n      <td>59.640000</td>\n      <td>363.700000</td>\n      <td>170.000000</td>\n      <td>30.910000</td>\n      <td>395.000000</td>\n      <td>175.000000</td>\n      <td>17.770000</td>\n      <td>20.000000</td>\n      <td>20.000000</td>\n      <td>5.400000</td>\n      <td>9.000000</td>\n      <td>1.000000</td>\n    </tr>\n  </tbody>\n</table>\n</div>"
     },
     "metadata": {},
     "output_type": "execute_result",
     "execution_count": 5
    }
   ],
   "source": [
    "df.describe()"
   ],
   "metadata": {
    "collapsed": false,
    "pycharm": {
     "name": "#%%\n",
     "is_executing": false
    }
   }
  },
  {
   "cell_type": "code",
   "execution_count": 11,
   "outputs": [
    {
     "data": {
      "text/plain": "       State International plan Voice mail plan\ncount   3333               3333            3333\nunique    51                  2               2\ntop       WV                 No              No\nfreq     106               3010            2411",
      "text/html": "<div>\n<style scoped>\n    .dataframe tbody tr th:only-of-type {\n        vertical-align: middle;\n    }\n\n    .dataframe tbody tr th {\n        vertical-align: top;\n    }\n\n    .dataframe thead th {\n        text-align: right;\n    }\n</style>\n<table border=\"1\" class=\"dataframe\">\n  <thead>\n    <tr style=\"text-align: right;\">\n      <th></th>\n      <th>State</th>\n      <th>International plan</th>\n      <th>Voice mail plan</th>\n    </tr>\n  </thead>\n  <tbody>\n    <tr>\n      <th>count</th>\n      <td>3333</td>\n      <td>3333</td>\n      <td>3333</td>\n    </tr>\n    <tr>\n      <th>unique</th>\n      <td>51</td>\n      <td>2</td>\n      <td>2</td>\n    </tr>\n    <tr>\n      <th>top</th>\n      <td>WV</td>\n      <td>No</td>\n      <td>No</td>\n    </tr>\n    <tr>\n      <th>freq</th>\n      <td>106</td>\n      <td>3010</td>\n      <td>2411</td>\n    </tr>\n  </tbody>\n</table>\n</div>"
     },
     "metadata": {},
     "output_type": "execute_result",
     "execution_count": 11
    }
   ],
   "source": [
    "df.describe(include=['object'])"
   ],
   "metadata": {
    "collapsed": false,
    "pycharm": {
     "name": "#%%\n",
     "is_executing": false
    }
   }
  },
  {
   "cell_type": "code",
   "execution_count": 13,
   "outputs": [
    {
     "data": {
      "text/plain": "0    2850\n1     483\nName: Churn, dtype: int64"
     },
     "metadata": {},
     "output_type": "execute_result",
     "execution_count": 13
    }
   ],
   "source": [
    "df['Churn'].value_counts()"
   ],
   "metadata": {
    "collapsed": false,
    "pycharm": {
     "name": "#%%\n",
     "is_executing": false
    }
   }
  },
  {
   "cell_type": "code",
   "execution_count": 15,
   "outputs": [
    {
     "data": {
      "text/plain": "0    0.855086\n1    0.144914\nName: Churn, dtype: float64"
     },
     "metadata": {},
     "output_type": "execute_result",
     "execution_count": 15
    }
   ],
   "source": [
    "df['Churn'].value_counts(normalize=True)"
   ],
   "metadata": {
    "collapsed": false,
    "pycharm": {
     "name": "#%%\n",
     "is_executing": false
    }
   }
  },
  {
   "cell_type": "code",
   "execution_count": 18,
   "outputs": [
    {
     "data": {
      "text/plain": "     State  Account length  Area code International plan Voice mail plan  \\\n1345    SD              98        415                 No              No   \n1397    VT             101        510                 No              No   \n2736    OK             127        510                 No             Yes   \n2753    OH             134        415                 No              No   \n1986    WI              70        415                 No              No   \n\n      Number vmail messages  Total day minutes  Total day calls  \\\n1345                      0                0.0                0   \n1397                      0                0.0                0   \n2736                     27                2.6              113   \n2753                      0                7.8               86   \n1986                      0                7.9              100   \n\n      Total day charge  Total eve minutes  Total eve calls  Total eve charge  \\\n1345              0.00              159.6              130             13.57   \n1397              0.00              192.1              119             16.33   \n2736              0.44              254.0              102             21.59   \n2753              1.33              171.4              100             14.57   \n1986              1.34              136.4               83             11.59   \n\n      Total night minutes  Total night calls  Total night charge  \\\n1345                167.1                 88                7.52   \n1397                168.8                 95                7.60   \n2736                242.7                156               10.92   \n2753                186.5                 80                8.39   \n1986                156.6                 89                7.05   \n\n      Total intl minutes  Total intl calls  Total intl charge  \\\n1345                 6.8                 1               1.84   \n1397                 7.2                 4               1.94   \n2736                 9.2                 5               2.48   \n2753                12.9                 2               3.48   \n1986                12.1                 1               3.27   \n\n      Customer service calls  Churn  \n1345                       4      1  \n1397                       1      0  \n2736                       3      0  \n2753                       2      0  \n1986                       0      0  ",
      "text/html": "<div>\n<style scoped>\n    .dataframe tbody tr th:only-of-type {\n        vertical-align: middle;\n    }\n\n    .dataframe tbody tr th {\n        vertical-align: top;\n    }\n\n    .dataframe thead th {\n        text-align: right;\n    }\n</style>\n<table border=\"1\" class=\"dataframe\">\n  <thead>\n    <tr style=\"text-align: right;\">\n      <th></th>\n      <th>State</th>\n      <th>Account length</th>\n      <th>Area code</th>\n      <th>International plan</th>\n      <th>Voice mail plan</th>\n      <th>Number vmail messages</th>\n      <th>Total day minutes</th>\n      <th>Total day calls</th>\n      <th>Total day charge</th>\n      <th>Total eve minutes</th>\n      <th>Total eve calls</th>\n      <th>Total eve charge</th>\n      <th>Total night minutes</th>\n      <th>Total night calls</th>\n      <th>Total night charge</th>\n      <th>Total intl minutes</th>\n      <th>Total intl calls</th>\n      <th>Total intl charge</th>\n      <th>Customer service calls</th>\n      <th>Churn</th>\n    </tr>\n  </thead>\n  <tbody>\n    <tr>\n      <th>1345</th>\n      <td>SD</td>\n      <td>98</td>\n      <td>415</td>\n      <td>No</td>\n      <td>No</td>\n      <td>0</td>\n      <td>0.0</td>\n      <td>0</td>\n      <td>0.00</td>\n      <td>159.6</td>\n      <td>130</td>\n      <td>13.57</td>\n      <td>167.1</td>\n      <td>88</td>\n      <td>7.52</td>\n      <td>6.8</td>\n      <td>1</td>\n      <td>1.84</td>\n      <td>4</td>\n      <td>1</td>\n    </tr>\n    <tr>\n      <th>1397</th>\n      <td>VT</td>\n      <td>101</td>\n      <td>510</td>\n      <td>No</td>\n      <td>No</td>\n      <td>0</td>\n      <td>0.0</td>\n      <td>0</td>\n      <td>0.00</td>\n      <td>192.1</td>\n      <td>119</td>\n      <td>16.33</td>\n      <td>168.8</td>\n      <td>95</td>\n      <td>7.60</td>\n      <td>7.2</td>\n      <td>4</td>\n      <td>1.94</td>\n      <td>1</td>\n      <td>0</td>\n    </tr>\n    <tr>\n      <th>2736</th>\n      <td>OK</td>\n      <td>127</td>\n      <td>510</td>\n      <td>No</td>\n      <td>Yes</td>\n      <td>27</td>\n      <td>2.6</td>\n      <td>113</td>\n      <td>0.44</td>\n      <td>254.0</td>\n      <td>102</td>\n      <td>21.59</td>\n      <td>242.7</td>\n      <td>156</td>\n      <td>10.92</td>\n      <td>9.2</td>\n      <td>5</td>\n      <td>2.48</td>\n      <td>3</td>\n      <td>0</td>\n    </tr>\n    <tr>\n      <th>2753</th>\n      <td>OH</td>\n      <td>134</td>\n      <td>415</td>\n      <td>No</td>\n      <td>No</td>\n      <td>0</td>\n      <td>7.8</td>\n      <td>86</td>\n      <td>1.33</td>\n      <td>171.4</td>\n      <td>100</td>\n      <td>14.57</td>\n      <td>186.5</td>\n      <td>80</td>\n      <td>8.39</td>\n      <td>12.9</td>\n      <td>2</td>\n      <td>3.48</td>\n      <td>2</td>\n      <td>0</td>\n    </tr>\n    <tr>\n      <th>1986</th>\n      <td>WI</td>\n      <td>70</td>\n      <td>415</td>\n      <td>No</td>\n      <td>No</td>\n      <td>0</td>\n      <td>7.9</td>\n      <td>100</td>\n      <td>1.34</td>\n      <td>136.4</td>\n      <td>83</td>\n      <td>11.59</td>\n      <td>156.6</td>\n      <td>89</td>\n      <td>7.05</td>\n      <td>12.1</td>\n      <td>1</td>\n      <td>3.27</td>\n      <td>0</td>\n      <td>0</td>\n    </tr>\n  </tbody>\n</table>\n</div>"
     },
     "metadata": {},
     "output_type": "execute_result",
     "execution_count": 18
    }
   ],
   "source": [
    "df.sort_values(by='Total day minutes', ascending=True).head()"
   ],
   "metadata": {
    "collapsed": false,
    "pycharm": {
     "name": "#%%\n",
     "is_executing": false
    }
   }
  },
  {
   "cell_type": "markdown",
   "source": [
    "## 预测离网律"
   ],
   "metadata": {
    "collapsed": false
   }
  },
  {
   "cell_type": "code",
   "execution_count": 19,
   "outputs": [
    {
     "data": {
      "text/plain": "<matplotlib.axes._subplots.AxesSubplot at 0x12b461950>"
     },
     "metadata": {},
     "output_type": "execute_result",
     "execution_count": 19
    },
    {
     "data": {
      "text/plain": "<Figure size 432x288 with 1 Axes>",
      "image/png": "[encoded data removed]"
     },
     "metadata": {
      "needs_background": "light"
     },
     "output_type": "display_data"
    }
   ],
   "source": [
    "sns.countplot(x='International plan', hue='Churn', data=df)"
   ],
   "metadata": {
    "collapsed": false,
    "pycharm": {
     "name": "#%%\n",
     "is_executing": false
    }
   }
  },
  {
   "cell_type": "code",
   "execution_count": 21,
   "outputs": [
    {
     "data": {
      "text/plain": "Customer service calls    0     1    2    3    4   5   6  7  8  9   All\nChurn                                                                  \n0                       605  1059  672  385   90  26   8  4  1  0  2850\n1                        92   122   87   44   76  40  14  5  1  2   483\nAll                     697  1181  759  429  166  66  22  9  2  2  3333",
      "text/html": "<div>\n<style scoped>\n    .dataframe tbody tr th:only-of-type {\n        vertical-align: middle;\n    }\n\n    .dataframe tbody tr th {\n        vertical-align: top;\n    }\n\n    .dataframe thead th {\n        text-align: right;\n    }\n</style>\n<table border=\"1\" class=\"dataframe\">\n  <thead>\n    <tr style=\"text-align: right;\">\n      <th>Customer service calls</th>\n      <th>0</th>\n      <th>1</th>\n      <th>2</th>\n      <th>3</th>\n      <th>4</th>\n      <th>5</th>\n      <th>6</th>\n      <th>7</th>\n      <th>8</th>\n      <th>9</th>\n      <th>All</th>\n    </tr>\n    <tr>\n      <th>Churn</th>\n      <th></th>\n      <th></th>\n      <th></th>\n      <th></th>\n      <th></th>\n      <th></th>\n      <th></th>\n      <th></th>\n      <th></th>\n      <th></th>\n      <th></th>\n    </tr>\n  </thead>\n  <tbody>\n    <tr>\n      <th>0</th>\n      <td>605</td>\n      <td>1059</td>\n      <td>672</td>\n      <td>385</td>\n      <td>90</td>\n      <td>26</td>\n      <td>8</td>\n      <td>4</td>\n      <td>1</td>\n      <td>0</td>\n      <td>2850</td>\n    </tr>\n    <tr>\n      <th>1</th>\n      <td>92</td>\n      <td>122</td>\n      <td>87</td>\n      <td>44</td>\n      <td>76</td>\n      <td>40</td>\n      <td>14</td>\n      <td>5</td>\n      <td>1</td>\n      <td>2</td>\n      <td>483</td>\n    </tr>\n    <tr>\n      <th>All</th>\n      <td>697</td>\n      <td>1181</td>\n      <td>759</td>\n      <td>429</td>\n      <td>166</td>\n      <td>66</td>\n      <td>22</td>\n      <td>9</td>\n      <td>2</td>\n      <td>2</td>\n      <td>3333</td>\n    </tr>\n  </tbody>\n</table>\n</div>"
     },
     "metadata": {},
     "output_type": "execute_result",
     "execution_count": 21
    }
   ],
   "source": [
    "pd.crosstab(df['Churn'], df['Customer service calls'], margins=True)"
   ],
   "metadata": {
    "collapsed": false,
    "pycharm": {
     "name": "#%%\n",
     "is_executing": false
    }
   }
  },
  {
   "cell_type": "code",
   "execution_count": 23,
   "outputs": [
    {
     "data": {
      "text/plain": "<matplotlib.axes._subplots.AxesSubplot at 0x12a695790>"
     },
     "metadata": {},
     "output_type": "execute_result",
     "execution_count": 23
    },
    {
     "data": {
      "text/plain": "<Figure size 432x288 with 1 Axes>",
      "image/png": "[encoded data removed]"
     },
     "metadata": {
      "needs_background": "light"
     },
     "output_type": "display_data"
    }
   ],
   "source": [
    "sns.countplot(x='Customer service calls', hue='Churn', data=df)\n"
   ],
   "metadata": {
    "collapsed": false,
    "pycharm": {
     "name": "#%%\n",
     "is_executing": false
    }
   }
  },
  {
   "cell_type": "code",
   "execution_count": 25,
   "outputs": [
    {
     "data": {
      "text/plain": "Churn                  0    1   All\nMany_service_calls                 \n0                   2721  345  3066\n1                    129  138   267\nAll                 2850  483  3333",
      "text/html": "<div>\n<style scoped>\n    .dataframe tbody tr th:only-of-type {\n        vertical-align: middle;\n    }\n\n    .dataframe tbody tr th {\n        vertical-align: top;\n    }\n\n    .dataframe thead th {\n        text-align: right;\n    }\n</style>\n<table border=\"1\" class=\"dataframe\">\n  <thead>\n    <tr style=\"text-align: right;\">\n      <th>Churn</th>\n      <th>0</th>\n      <th>1</th>\n      <th>All</th>\n    </tr>\n    <tr>\n      <th>Many_service_calls</th>\n      <th></th>\n      <th></th>\n      <th></th>\n    </tr>\n  </thead>\n  <tbody>\n    <tr>\n      <th>0</th>\n      <td>2721</td>\n      <td>345</td>\n      <td>3066</td>\n    </tr>\n    <tr>\n      <th>1</th>\n      <td>129</td>\n      <td>138</td>\n      <td>267</td>\n    </tr>\n    <tr>\n      <th>All</th>\n      <td>2850</td>\n      <td>483</td>\n      <td>3333</td>\n    </tr>\n  </tbody>\n</table>\n</div>"
     },
     "metadata": {},
     "output_type": "execute_result",
     "execution_count": 25
    }
   ],
   "source": [
    "df['Many_service_calls'] = (df['Customer service calls'] > 3).astype('int')\n",
    "\n",
    "pd.crosstab(df['Many_service_calls'], df['Churn'], margins=True)"
   ],
   "metadata": {
    "collapsed": false,
    "pycharm": {
     "name": "#%%\n",
     "is_executing": false
    }
   }
  },
  {
   "cell_type": "code",
   "execution_count": 27,
   "outputs": [
    {
     "data": {
      "text/plain": "<matplotlib.axes._subplots.AxesSubplot at 0x12a566450>"
     },
     "metadata": {},
     "output_type": "execute_result",
     "execution_count": 27
    },
    {
     "data": {
      "text/plain": "<Figure size 432x288 with 1 Axes>",
      "image/png": "[encoded data removed]"
     },
     "metadata": {
      "needs_background": "light"
     },
     "output_type": "display_data"
    }
   ],
   "source": [
    "sns.countplot(x='Many_service_calls', hue='Churn', data=df)\n"
   ],
   "metadata": {
    "collapsed": false,
    "pycharm": {
     "name": "#%%\n",
     "is_executing": false
    }
   }
  },
  {
   "cell_type": "code",
   "execution_count": 29,
   "outputs": [
    {
     "data": {
      "text/plain": "Churn     0    1\nrow_0           \nFalse  2721  345\nTrue    129  138",
      "text/html": "<div>\n<style scoped>\n    .dataframe tbody tr th:only-of-type {\n        vertical-align: middle;\n    }\n\n    .dataframe tbody tr th {\n        vertical-align: top;\n    }\n\n    .dataframe thead th {\n        text-align: right;\n    }\n</style>\n<table border=\"1\" class=\"dataframe\">\n  <thead>\n    <tr style=\"text-align: right;\">\n      <th>Churn</th>\n      <th>0</th>\n      <th>1</th>\n    </tr>\n    <tr>\n      <th>row_0</th>\n      <th></th>\n      <th></th>\n    </tr>\n  </thead>\n  <tbody>\n    <tr>\n      <th>False</th>\n      <td>2721</td>\n      <td>345</td>\n    </tr>\n    <tr>\n      <th>True</th>\n      <td>129</td>\n      <td>138</td>\n    </tr>\n  </tbody>\n</table>\n</div>"
     },
     "metadata": {},
     "output_type": "execute_result",
     "execution_count": 29
    }
   ],
   "source": [
    "pd.crosstab(df['Many_service_calls'] & df['International plan'], df['Churn'])\n"
   ],
   "metadata": {
    "collapsed": false,
    "pycharm": {
     "name": "#%%\n",
     "is_executing": false
    }
   }
  },
  {
   "cell_type": "code",
   "execution_count": 30,
   "outputs": [
    {
     "data": {
      "text/plain": "Churn     0    1\nrow_0           \nFalse  2721  345\nTrue    129  138",
      "text/html": "<div>\n<style scoped>\n    .dataframe tbody tr th:only-of-type {\n        vertical-align: middle;\n    }\n\n    .dataframe tbody tr th {\n        vertical-align: top;\n    }\n\n    .dataframe thead th {\n        text-align: right;\n    }\n</style>\n<table border=\"1\" class=\"dataframe\">\n  <thead>\n    <tr style=\"text-align: right;\">\n      <th>Churn</th>\n      <th>0</th>\n      <th>1</th>\n    </tr>\n    <tr>\n      <th>row_0</th>\n      <th></th>\n      <th></th>\n    </tr>\n  </thead>\n  <tbody>\n    <tr>\n      <th>False</th>\n      <td>2721</td>\n      <td>345</td>\n    </tr>\n    <tr>\n      <th>True</th>\n      <td>129</td>\n      <td>138</td>\n    </tr>\n  </tbody>\n</table>\n</div>"
     },
     "metadata": {},
     "output_type": "execute_result",
     "execution_count": 30
    }
   ],
   "source": [
    "pd.crosstab(df['Many_service_calls'] & df['International plan'], df['Churn'])\n",
    "\n"
   ],
   "metadata": {
    "collapsed": false,
    "pycharm": {
     "name": "#%%\n",
     "is_executing": false
    }
   }
  }
 ],
 "metadata": {
  "kernelspec": {
   "display_name": "Python 3",
   "language": "python",
   "name": "python3"
  },
  "language_info": {
   "codemirror_mode": {
    "name": "ipython",
    "version": 2
   },
   "file_extension": ".py",
   "mimetype": "text/x-python",
   "name": "python",
   "nbconvert_exporter": "python",
   "pygments_lexer": "ipython2",
   "version": "2.7.6"
  },
  "pycharm": {
   "stem_cell": {
    "cell_type": "raw",
    "source": [],
    "metadata": {
     "collapsed": false
    }
   }
  }
 },
 "nbformat": 4,
 "nbformat_minor": 0
}